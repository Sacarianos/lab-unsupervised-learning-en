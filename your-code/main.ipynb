{
 "cells": [
  {
   "cell_type": "markdown",
   "metadata": {
    "toc": true
   },
   "source": [
    "<h1>Table of Contents<span class=\"tocSkip\"></span></h1>\n",
    "<div class=\"toc\"><ul class=\"toc-item\"><li><span><a href=\"#Before-your-start:\" data-toc-modified-id=\"Before-your-start:-1\"><span class=\"toc-item-num\">1&nbsp;&nbsp;</span>Before your start:</a></span></li><li><span><a href=\"#Challenge-1---Import-and-Describe-the-Dataset\" data-toc-modified-id=\"Challenge-1---Import-and-Describe-the-Dataset-2\"><span class=\"toc-item-num\">2&nbsp;&nbsp;</span>Challenge 1 - Import and Describe the Dataset</a></span><ul class=\"toc-item\"><li><ul class=\"toc-item\"><li><ul class=\"toc-item\"><li><span><a href=\"#Explore-the-dataset-with-mathematical-and-visualization-techniques.-What-do-you-find?\" data-toc-modified-id=\"Explore-the-dataset-with-mathematical-and-visualization-techniques.-What-do-you-find?-2.0.0.1\"><span class=\"toc-item-num\">2.0.0.1&nbsp;&nbsp;</span>Explore the dataset with mathematical and visualization techniques. What do you find?</a></span></li></ul></li></ul></li></ul></li><li><span><a href=\"#Challenge-2---Data-Cleaning-and-Transformation\" data-toc-modified-id=\"Challenge-2---Data-Cleaning-and-Transformation-3\"><span class=\"toc-item-num\">3&nbsp;&nbsp;</span>Challenge 2 - Data Cleaning and Transformation</a></span></li><li><span><a href=\"#Challenge-3---Data-Preprocessing\" data-toc-modified-id=\"Challenge-3---Data-Preprocessing-4\"><span class=\"toc-item-num\">4&nbsp;&nbsp;</span>Challenge 3 - Data Preprocessing</a></span><ul class=\"toc-item\"><li><ul class=\"toc-item\"><li><ul class=\"toc-item\"><li><span><a href=\"#We-will-use-the-StandardScaler-from-sklearn.preprocessing-and-scale-our-data.-Read-more-about-StandardScaler-here.\" data-toc-modified-id=\"We-will-use-the-StandardScaler-from-sklearn.preprocessing-and-scale-our-data.-Read-more-about-StandardScaler-here.-4.0.0.1\"><span class=\"toc-item-num\">4.0.0.1&nbsp;&nbsp;</span>We will use the <code>StandardScaler</code> from <code>sklearn.preprocessing</code> and scale our data. Read more about <code>StandardScaler</code> <a href=\"https://scikit-learn.org/stable/modules/generated/sklearn.preprocessing.StandardScaler.html#sklearn.preprocessing.StandardScaler\" target=\"_blank\">here</a>.</a></span></li></ul></li></ul></li></ul></li><li><span><a href=\"#Challenge-4---Data-Clustering-with-K-Means\" data-toc-modified-id=\"Challenge-4---Data-Clustering-with-K-Means-5\"><span class=\"toc-item-num\">5&nbsp;&nbsp;</span>Challenge 4 - Data Clustering with K-Means</a></span></li><li><span><a href=\"#Challenge-5---Data-Clustering-with-DBSCAN\" data-toc-modified-id=\"Challenge-5---Data-Clustering-with-DBSCAN-6\"><span class=\"toc-item-num\">6&nbsp;&nbsp;</span>Challenge 5 - Data Clustering with DBSCAN</a></span></li><li><span><a href=\"#Challenge-6---Compare-K-Means-with-DBSCAN\" data-toc-modified-id=\"Challenge-6---Compare-K-Means-with-DBSCAN-7\"><span class=\"toc-item-num\">7&nbsp;&nbsp;</span>Challenge 6 - Compare K-Means with DBSCAN</a></span></li><li><span><a href=\"#Bonus-Challenge-2---Changing-K-Means-Number-of-Clusters\" data-toc-modified-id=\"Bonus-Challenge-2---Changing-K-Means-Number-of-Clusters-8\"><span class=\"toc-item-num\">8&nbsp;&nbsp;</span>Bonus Challenge 2 - Changing K-Means Number of Clusters</a></span></li><li><span><a href=\"#Bonus-Challenge-3---Changing-DBSCAN-eps-and-min_samples\" data-toc-modified-id=\"Bonus-Challenge-3---Changing-DBSCAN-eps-and-min_samples-9\"><span class=\"toc-item-num\">9&nbsp;&nbsp;</span>Bonus Challenge 3 - Changing DBSCAN <code>eps</code> and <code>min_samples</code></a></span></li></ul></div>"
   ]
  },
  {
   "cell_type": "markdown",
   "metadata": {},
   "source": [
    "# Before your start:\n",
    "- Read the README.md file\n",
    "- Comment as much as you can and use the resources in the README.md file\n",
    "- Happy learning!"
   ]
  },
  {
   "cell_type": "code",
   "execution_count": 2,
   "metadata": {},
   "outputs": [],
   "source": [
    "# Import your libraries:\n",
    "\n",
    "%matplotlib inline\n",
    "\n",
    "import matplotlib.pyplot as plt\n",
    "import numpy as np\n",
    "import pandas as pd\n",
    "import seaborn as sns\n",
    "import warnings                                              \n",
    "from sklearn.exceptions import DataConversionWarning          \n",
    "warnings.filterwarnings(action='ignore', category=DataConversionWarning)"
   ]
  },
  {
   "cell_type": "markdown",
   "metadata": {},
   "source": [
    "# Challenge 1 - Import and Describe the Dataset\n",
    "\n",
    "In this lab, we will use a dataset containing information about customer preferences. We will look at how much each customer spends in a year on each subcategory in the grocery store and try to find similarities using clustering.\n",
    "\n",
    "The origin of the dataset is [here](https://archive.ics.uci.edu/ml/datasets/wholesale+customers)."
   ]
  },
  {
   "cell_type": "code",
   "execution_count": null,
   "metadata": {},
   "outputs": [],
   "source": [
    "\n",
    "# Load the dataset\n",
    "url = './Wholesalecustomersdata.csv'\n",
    "data = pd.read_csv(url)\n",
    "\n",
    "# Display the first few rows of the dataset\n",
    "print(\"First few rows of the dataset:\")\n",
    "print(data.head())\n",
    "\n",
    "# Display the summary statistics of the dataset\n",
    "print(\"\\nSummary statistics of the dataset:\")\n",
    "print(data.describe())\n"
   ]
  },
  {
   "cell_type": "markdown",
   "metadata": {},
   "source": [
    "#### Explore the dataset with mathematical and visualization techniques. What do you find?\n",
    "\n",
    "Checklist:\n",
    "\n",
    "* What does each column mean?\n",
    "* Any categorical data to convert?\n",
    "* Any missing data to remove?\n",
    "* Column collinearity - any high correlations?\n",
    "* Descriptive statistics - any outliers to remove?\n",
    "* Column-wise data distribution - is the distribution skewed?\n",
    "* Etc.\n",
    "\n",
    "Additional info: Over a century ago, an Italian economist named Vilfredo Pareto discovered that roughly 20% of the customers account for 80% of the typical retail sales. This is called the [Pareto principle](https://en.wikipedia.org/wiki/Pareto_principle). Check if this dataset displays this characteristic."
   ]
  },
  {
   "cell_type": "code",
   "execution_count": null,
   "metadata": {},
   "outputs": [],
   "source": [
    "print(data.columns)\n",
    "print(\"\")\n",
    "print(data.info())\n",
    "print(\"\\nNull values:\")\n",
    "print(data.isnull().sum())\n",
    "print(\"\\nCorrelation Matrix\")\n",
    "correlation_matrix = data.corr()\n",
    "print(correlation_matrix)\n",
    "print(\"\\ndata describe\")\n",
    "print(data.describe())\n",
    "data.hist(figsize=(12, 10)) \n",
    "plt.show()\n",
    "\n",
    "\n",
    "# Calculate total spend per customer\n",
    "data['TotalSpend'] = data.drop(columns=['Channel', 'Region']).sum(axis=1)\n",
    "\n",
    "# Sort the data by total spend\n",
    "sorted_data = data.sort_values(by='TotalSpend', ascending=False)\n",
    "\n",
    "# Calculate cumulative spend\n",
    "sorted_data['CumulativeSpend'] = sorted_data['TotalSpend'].cumsum()\n",
    "\n",
    "# Calculate cumulative percentage of customers\n",
    "sorted_data['CumulativeCustomers'] = (sorted_data.index + 1) / len(sorted_data)\n",
    "\n",
    "# Calculate cumulative percentage of spend\n",
    "sorted_data['CumulativeSpendPercentage'] = sorted_data['CumulativeSpend'] / sorted_data['TotalSpend'].sum()\n",
    "\n",
    "# Plot the cumulative spend vs customers\n",
    "plt.figure(figsize=(10, 6))\n",
    "plt.plot(sorted_data['CumulativeCustomers'], sorted_data['CumulativeSpendPercentage'], marker='o')\n",
    "plt.xlabel('Cumulative Percentage of Customers')\n",
    "plt.ylabel('Cumulative Percentage of Spend')\n",
    "plt.title('Cumulative Spend vs Cumulative Customers')\n",
    "plt.grid(True)\n",
    "plt.show()\n"
   ]
  },
  {
   "cell_type": "markdown",
   "metadata": {},
   "source": [
    "**Your observations here**\n",
    "\n",
    "- ex.: Frozen, Grocery, Milk and Detergents Paper have a high...\n",
    "- ...\n",
    "\n"
   ]
  },
  {
   "cell_type": "markdown",
   "metadata": {},
   "source": [
    "# Challenge 2 - Data Cleaning and Transformation\n",
    "\n",
    "If your conclusion from the previous challenge is the data need cleaning/transformation, do it in the cells below. However, if your conclusion is the data need not be cleaned or transformed, feel free to skip this challenge. But if you do choose the latter, please provide rationale."
   ]
  },
  {
   "cell_type": "code",
   "execution_count": null,
   "metadata": {},
   "outputs": [],
   "source": [
    "\n",
    "# Function to remove outliers using IQR\n",
    "def remove_outliers(df, columns):\n",
    "    for col in columns:\n",
    "        Q1 = df[col].quantile(0.25)\n",
    "        Q3 = df[col].quantile(0.75)\n",
    "        IQR = Q3 - Q1\n",
    "        lower_bound = Q1 - 1.5 * IQR\n",
    "        upper_bound = Q3 + 1.5 * IQR\n",
    "        df = df[(df[col] >= lower_bound) & (df[col] <= upper_bound)]\n",
    "    return df\n",
    "\n",
    "# Columns to check for outliers\n",
    "columns = ['Fresh', 'Milk', 'Grocery', 'Frozen', 'Detergents_Paper', 'Delicassen']\n",
    "\n",
    "# Remove outliers from the dataset\n",
    "data_cleaned = remove_outliers(data, columns)\n",
    "\n",
    "print(\"Data after outlier removal:\")\n",
    "print(data_cleaned.describe())\n",
    "\n",
    "\n"
   ]
  },
  {
   "cell_type": "markdown",
   "metadata": {},
   "source": [
    "**Your comment here**\n",
    "\n",
    "-  ...\n",
    "-  ..."
   ]
  },
  {
   "cell_type": "markdown",
   "metadata": {},
   "source": [
    "# Challenge 3 - Data Preprocessing\n",
    "\n",
    "One problem with the dataset is the value ranges are remarkably different across various categories (e.g. `Fresh` and `Grocery` compared to `Detergents_Paper` and `Delicassen`). If you made this observation in the first challenge, you've done a great job! This means you not only completed the bonus questions in the previous Supervised Learning lab but also researched deep into [*feature scaling*](https://en.wikipedia.org/wiki/Feature_scaling). Keep on the good work!\n",
    "\n",
    "Diverse value ranges in different features could cause issues in our clustering. The way to reduce the problem is through feature scaling. We'll use this technique again with this dataset.\n",
    "\n",
    "#### We will use the `StandardScaler` from `sklearn.preprocessing` and scale our data. Read more about `StandardScaler` [here](https://scikit-learn.org/stable/modules/generated/sklearn.preprocessing.StandardScaler.html#sklearn.preprocessing.StandardScaler).\n",
    "\n",
    "*After scaling your data, assign the transformed data to a new variable `customers_scale`.*"
   ]
  },
  {
   "cell_type": "code",
   "execution_count": null,
   "metadata": {},
   "outputs": [],
   "source": [
    "from sklearn.preprocessing import StandardScaler\n",
    "\n",
    "# Initialize StandardScaler\n",
    "scaler = StandardScaler()\n",
    "\n",
    "# Fit and transform the data\n",
    "customers_scale = scaler.fit_transform(data_cleaned.drop(columns=['Channel', 'Region']))\n",
    "\n",
    "# Convert the scaled data back to a DataFrame\n",
    "customers_scale = pd.DataFrame(customers_scale, columns=data_cleaned.columns.drop(['Channel', 'Region']))\n",
    "\n",
    "# Display the first few rows of the scaled data\n",
    "print(\"Scaled data:\")\n",
    "print(customers_scale.head())\n"
   ]
  },
  {
   "cell_type": "markdown",
   "metadata": {},
   "source": [
    "# Challenge 4 - Data Clustering with K-Means\n",
    "\n",
    "Now let's cluster the data with K-Means first. Initiate the K-Means model, then fit your scaled data. In the data returned from the `.fit` method, there is an attribute called `labels_` which is the cluster number assigned to each data record. What you can do is to assign these labels back to `customers` in a new column called `customers['labels']`. Then you'll see the cluster results of the original data."
   ]
  },
  {
   "cell_type": "code",
   "execution_count": null,
   "metadata": {
    "scrolled": true
   },
   "outputs": [],
   "source": [
    "from sklearn.cluster import KMeans\n",
    "\n",
    "k_means = KMeans(init = \"k-means++\", n_clusters = 4, n_init = 12)\n",
    "\n",
    "k_means.fit(customers_scale)\n",
    "\n",
    "labels = k_means.labels_\n",
    "\n",
    "data_cleaned['labels'] = labels\n",
    "\n",
    "print(\"Clustered data with labels:\") \n",
    "print(data_cleaned.head())"
   ]
  },
  {
   "cell_type": "markdown",
   "metadata": {},
   "source": [
    "### Looking to the elbow we can choose 2 like the correct number of clusters"
   ]
  },
  {
   "cell_type": "code",
   "execution_count": 16,
   "metadata": {},
   "outputs": [],
   "source": [
    "kmeans_2 = KMeans(n_clusters=2).fit(customers_scale)\n",
    "\n",
    "labels = kmeans_2.predict(customers_scale)\n",
    "\n",
    "clusters = kmeans_2.labels_.tolist()"
   ]
  },
  {
   "cell_type": "code",
   "execution_count": null,
   "metadata": {},
   "outputs": [],
   "source": [
    "data_cleaned['Label'] = clusters"
   ]
  },
  {
   "cell_type": "markdown",
   "metadata": {},
   "source": [
    "Count the values in `labels`."
   ]
  },
  {
   "cell_type": "code",
   "execution_count": null,
   "metadata": {},
   "outputs": [],
   "source": [
    "# Count the values in the 'Label' column\n",
    "label_counts = data_cleaned['Label'].value_counts()\n",
    "\n",
    "print(\"Counts of each cluster label:\")\n",
    "print(label_counts)\n"
   ]
  },
  {
   "cell_type": "markdown",
   "metadata": {},
   "source": [
    "# Challenge 5 - Data Clustering with DBSCAN\n",
    "\n",
    "Now let's cluster the data using DBSCAN. Use `DBSCAN(eps=0.5)` to initiate the model, then fit your scaled data. In the data returned from the `.fit` method, assign the `labels_` back to `customers['labels_DBSCAN']`. Now your original data have two labels, one from K-Means and the other from DBSCAN."
   ]
  },
  {
   "cell_type": "code",
   "execution_count": null,
   "metadata": {
    "scrolled": true
   },
   "outputs": [],
   "source": [
    "from sklearn.cluster import DBSCAN \n",
    "\n",
    "dbscan = DBSCAN(eps=0.5)\n",
    "\n",
    "dbscan.fit(customers_scale)\n",
    "\n",
    "dbscan_lables = dbscan.labels_\n",
    "\n",
    "data_cleaned['labels_DBSCAN'] = dbscan_lables\n",
    "\n",
    "print(\"Clustered data with DBSCAN labels:\") \n",
    "print(data_cleaned.head())\n",
    "\n"
   ]
  },
  {
   "cell_type": "markdown",
   "metadata": {},
   "source": [
    "Count the values in `labels_DBSCAN`."
   ]
  },
  {
   "cell_type": "code",
   "execution_count": null,
   "metadata": {},
   "outputs": [],
   "source": [
    "dbscan_label_counts = data_cleaned['labels_DBSCAN'].value_counts()\n",
    "\n",
    "print(dbscan_label_counts)\n"
   ]
  },
  {
   "cell_type": "markdown",
   "metadata": {},
   "source": [
    "# Challenge 6 - Compare K-Means with DBSCAN\n",
    "\n",
    "Now we want to visually compare how K-Means and DBSCAN have clustered our data. We will create scatter plots for several columns. For each of the following column pairs, plot a scatter plot using `labels` and another using `labels_DBSCAN`. Put them side by side to compare. Which clustering algorithm makes better sense?\n",
    "\n",
    "Columns to visualize:\n",
    "\n",
    "* `Detergents_Paper` as X and `Milk` as y\n",
    "* `Grocery` as X and `Fresh` as y\n",
    "* `Frozen` as X and `Delicassen` as y"
   ]
  },
  {
   "cell_type": "markdown",
   "metadata": {},
   "source": [
    "Visualize `Detergents_Paper` as X and `Milk` as y by `labels` and `labels_DBSCAN` respectively"
   ]
  },
  {
   "cell_type": "code",
   "execution_count": 24,
   "metadata": {},
   "outputs": [],
   "source": [
    "def plot(x,y,hue):\n",
    "    sns.scatterplot(x=x, \n",
    "                    y=y,\n",
    "                    hue=hue)\n",
    "    plt.title('Detergents Paper vs Milk ')\n",
    "    return plt.show();"
   ]
  },
  {
   "cell_type": "code",
   "execution_count": null,
   "metadata": {},
   "outputs": [],
   "source": [
    "\n",
    "\n",
    "\n",
    "\n",
    "import matplotlib.pyplot as plt\n",
    "\n",
    "# Plot the scatter plots for 'Detergents_Paper' vs 'Milk'\n",
    "plt.figure(figsize=(14, 6))\n",
    "\n",
    "# Plot K-Means clustering\n",
    "plt.subplot(1, 2, 1)\n",
    "plt.scatter(data_cleaned['Detergents_Paper'], data_cleaned['Milk'], c=data_cleaned['Label'], cmap='viridis', s=50)\n",
    "plt.title('K-Means Clustering: Detergents_Paper vs Milk')\n",
    "plt.xlabel('Detergents_Paper')\n",
    "plt.ylabel('Milk')\n",
    "\n",
    "# Plot DBSCAN clustering\n",
    "plt.subplot(1, 2, 2)\n",
    "plt.scatter(data_cleaned['Detergents_Paper'], data_cleaned['Milk'], c=data_cleaned['labels_DBSCAN'], cmap='viridis', s=50)\n",
    "plt.title('DBSCAN Clustering: Detergents_Paper vs Milk')\n",
    "plt.xlabel('Detergents_Paper')\n",
    "plt.ylabel('Milk')\n",
    "\n",
    "plt.tight_layout()\n",
    "plt.show()\n"
   ]
  },
  {
   "cell_type": "markdown",
   "metadata": {},
   "source": [
    "Visualize `Grocery` as X and `Fresh` as y by `labels` and `labels_DBSCAN` respectively"
   ]
  },
  {
   "cell_type": "code",
   "execution_count": null,
   "metadata": {},
   "outputs": [],
   "source": [
    "\n",
    "# Plot the scatter plots for 'Detergents_Paper' vs 'Milk'\n",
    "plt.figure(figsize=(14, 6))\n",
    "\n",
    "# Plot K-Means clustering\n",
    "plt.subplot(1, 2, 1)\n",
    "plt.scatter(data_cleaned['Detergents_Paper'], data_cleaned['Milk'], c=data_cleaned['Label'], cmap='viridis', s=50)\n",
    "plt.title('K-Means Clustering: Detergents_Paper vs Milk')\n",
    "plt.xlabel('Detergents_Paper')\n",
    "plt.ylabel('Milk')\n",
    "\n",
    "# Plot DBSCAN clustering\n",
    "plt.subplot(1, 2, 2)\n",
    "plt.scatter(data_cleaned['Detergents_Paper'], data_cleaned['Milk'], c=data_cleaned['labels_DBSCAN'], cmap='viridis', s=50)\n",
    "plt.title('DBSCAN Clustering: Detergents_Paper vs Milk')\n",
    "plt.xlabel('Detergents_Paper')\n",
    "plt.ylabel('Milk')\n",
    "\n",
    "plt.tight_layout()\n",
    "plt.show()"
   ]
  },
  {
   "cell_type": "markdown",
   "metadata": {},
   "source": [
    "Visualize `Frozen` as X and `Delicassen` as y by `labels` and `labels_DBSCAN` respectively"
   ]
  },
  {
   "cell_type": "code",
   "execution_count": null,
   "metadata": {},
   "outputs": [],
   "source": [
    "\n",
    "# Plot the scatter plots for 'Frozen' vs 'Delicassen'\n",
    "plt.figure(figsize=(14, 6))\n",
    "\n",
    "# Plot K-Means clustering\n",
    "plt.subplot(1, 2, 1)\n",
    "plt.scatter(data_cleaned['Frozen'], data_cleaned['Delicassen'], c=data_cleaned['Label'], cmap='viridis', s=50)\n",
    "plt.title('K-Means Clustering: Frozen vs Delicassen')\n",
    "plt.xlabel('Frozen')\n",
    "plt.ylabel('Delicassen')\n",
    "\n",
    "# Plot DBSCAN clustering\n",
    "plt.subplot(1, 2, 2)\n",
    "plt.scatter(data_cleaned['Frozen'], data_cleaned['Delicassen'], c=data_cleaned['labels_DBSCAN'], cmap='viridis', s=50)\n",
    "plt.title('DBSCAN Clustering: Frozen vs Delicassen')\n",
    "plt.xlabel('Frozen')\n",
    "plt.ylabel('Delicassen')\n",
    "\n",
    "plt.tight_layout()\n",
    "plt.show()"
   ]
  },
  {
   "cell_type": "markdown",
   "metadata": {},
   "source": [
    "Let's use a groupby to see how the mean differs between the groups. Group `customers` by `labels` and `labels_DBSCAN` respectively and compute the means for all columns."
   ]
  },
  {
   "cell_type": "code",
   "execution_count": null,
   "metadata": {},
   "outputs": [],
   "source": [
    "# Group by 'labels' from K-Means and compute the means\n",
    "kmeans_grouped = data_cleaned.groupby('Label').mean()\n",
    "\n",
    "# Group by 'labels_DBSCAN' from DBSCAN and compute the means\n",
    "dbscan_grouped = data_cleaned.groupby('labels_DBSCAN').mean()\n",
    "\n",
    "print(\"Mean values for each cluster (K-Means):\")\n",
    "print(kmeans_grouped)\n",
    "\n",
    "print(\"\\nMean values for each cluster (DBSCAN):\")\n",
    "print(dbscan_grouped)\n"
   ]
  },
  {
   "cell_type": "markdown",
   "metadata": {},
   "source": [
    "Which algorithm appears to perform better?"
   ]
  },
  {
   "cell_type": "markdown",
   "metadata": {},
   "source": [
    "**Your observations here**\n",
    "\n",
    "- "
   ]
  },
  {
   "cell_type": "markdown",
   "metadata": {},
   "source": [
    "# Bonus Challenge 2 - Changing K-Means Number of Clusters\n",
    "\n",
    "As we mentioned earlier, we don't need to worry about the number of clusters with DBSCAN because it automatically decides that based on the parameters we send to it. But with K-Means, we have to supply the `n_clusters` param (if you don't supply `n_clusters`, the algorithm will use `8` by default). You need to know that the optimal number of clusters differs case by case based on the dataset. K-Means can perform badly if the wrong number of clusters is used.\n",
    "\n",
    "In advanced machine learning, data scientists try different numbers of clusters and evaluate the results with statistical measures (read [here](https://en.wikipedia.org/wiki/Cluster_analysis#External_evaluation)). We are not using statistical measures today but we'll use our eyes instead. In the cells below, experiment with different number of clusters and visualize with scatter plots. What number of clusters seems to work best for K-Means?"
   ]
  },
  {
   "cell_type": "code",
   "execution_count": null,
   "metadata": {},
   "outputs": [],
   "source": [
    "\n",
    "\n",
    "# Define the range of cluster numbers to experiment with\n",
    "cluster_range = range(2, 10)\n",
    "\n",
    "# Define the column pairs to visualize\n",
    "x_col, y_col = 'Grocery', 'Fresh'\n",
    "\n",
    "plt.figure(figsize=(20, 30))\n",
    "\n",
    "for i, n_clusters in enumerate(cluster_range, start=1):\n",
    "    # Initialize and fit K-Means model\n",
    "    k_means = KMeans(init=\"k-means++\", n_clusters=n_clusters, n_init=12, random_state=42)\n",
    "    k_means.fit(customers_scale)\n",
    "    \n",
    "    # Get the cluster labels\n",
    "    labels = k_means.labels_\n",
    "    \n",
    "    # Plot the clustering results\n",
    "    plt.subplot(4, 2, i)\n",
    "    plt.scatter(data_cleaned[x_col], data_cleaned[y_col], c=labels, cmap='viridis', s=50)\n",
    "    plt.title(f'K-Means Clustering with {n_clusters} Clusters')\n",
    "    plt.xlabel(x_col)\n",
    "    plt.ylabel(y_col)\n",
    "\n",
    "plt.tight_layout()\n",
    "plt.show()\n"
   ]
  },
  {
   "cell_type": "markdown",
   "metadata": {},
   "source": [
    "**Your comment here**\n",
    "\n",
    "- "
   ]
  },
  {
   "cell_type": "markdown",
   "metadata": {},
   "source": [
    "# Bonus Challenge 3 - Changing DBSCAN `eps` and `min_samples`\n",
    "\n",
    "Experiment changing the `eps` and `min_samples` params for DBSCAN. See how the results differ with scatter plot visualization."
   ]
  },
  {
   "cell_type": "code",
   "execution_count": null,
   "metadata": {},
   "outputs": [],
   "source": [
    "\n",
    "\n",
    "# Define different parameter settings\n",
    "parameters = [\n",
    "    {'eps': 0.3, 'min_samples': 5},\n",
    "    {'eps': 0.5, 'min_samples': 5},\n",
    "    {'eps': 0.7, 'min_samples': 5},\n",
    "    {'eps': 0.5, 'min_samples': 10},\n",
    "    {'eps': 0.5, 'min_samples': 20}\n",
    "]\n",
    "\n",
    "# Loop through the parameter settings\n",
    "for params in parameters:\n",
    "    # Initialize the DBSCAN model with specified parameters\n",
    "    dbscan = DBSCAN(eps=params['eps'], min_samples=params['min_samples'])\n",
    "    \n",
    "    # Fit the model to the scaled data\n",
    "    dbscan.fit(customers_scale)\n",
    "    \n",
    "    # Get the cluster labels\n",
    "    labels = dbscan.labels_\n",
    "    \n",
    "    # Plot the scatter plot for 'Grocery' vs 'Fresh'\n",
    "    plt.figure(figsize=(7, 6))\n",
    "    plt.scatter(data_cleaned['Grocery'], data_cleaned['Fresh'], c=labels, cmap='viridis', s=50)\n",
    "    plt.title(f\"DBSCAN Clustering: eps={params['eps']}, min_samples={params['min_samples']}\")\n",
    "    plt.xlabel('Grocery')\n",
    "    plt.ylabel('Fresh')\n",
    "    plt.show()\n"
   ]
  },
  {
   "cell_type": "markdown",
   "metadata": {},
   "source": [
    "**Your comment here**\n",
    "\n",
    "- "
   ]
  }
 ],
 "metadata": {
  "kernelspec": {
   "display_name": "Python 3",
   "language": "python",
   "name": "python3"
  },
  "language_info": {
   "codemirror_mode": {
    "name": "ipython",
    "version": 3
   },
   "file_extension": ".py",
   "mimetype": "text/x-python",
   "name": "python",
   "nbconvert_exporter": "python",
   "pygments_lexer": "ipython3",
   "version": "3.11.9"
  },
  "toc": {
   "base_numbering": 1,
   "nav_menu": {},
   "number_sections": true,
   "sideBar": true,
   "skip_h1_title": false,
   "title_cell": "Table of Contents",
   "title_sidebar": "Contents",
   "toc_cell": true,
   "toc_position": {},
   "toc_section_display": true,
   "toc_window_display": false
  },
  "varInspector": {
   "cols": {
    "lenName": 16,
    "lenType": 16,
    "lenVar": 40
   },
   "kernels_config": {
    "python": {
     "delete_cmd_postfix": "",
     "delete_cmd_prefix": "del ",
     "library": "var_list.py",
     "varRefreshCmd": "print(var_dic_list())"
    },
    "r": {
     "delete_cmd_postfix": ") ",
     "delete_cmd_prefix": "rm(",
     "library": "var_list.r",
     "varRefreshCmd": "cat(var_dic_list()) "
    }
   },
   "types_to_exclude": [
    "module",
    "function",
    "builtin_function_or_method",
    "instance",
    "_Feature"
   ],
   "window_display": false
  }
 },
 "nbformat": 4,
 "nbformat_minor": 2
}
